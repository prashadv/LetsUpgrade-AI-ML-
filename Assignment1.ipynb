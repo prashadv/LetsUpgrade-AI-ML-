{
 "cells": [
  {
   "cell_type": "code",
   "execution_count": 2,
   "metadata": {},
   "outputs": [
    {
     "name": "stdout",
     "output_type": "stream",
     "text": [
      "(1+2j)\n"
     ]
    }
   ],
   "source": [
    "#Subtraction of Complex Numbers\n",
    "a= 7+6j\n",
    "b= 6+4j\n",
    "print(a-b)"
   ]
  },
  {
   "cell_type": "code",
   "execution_count": 3,
   "metadata": {},
   "outputs": [
    {
     "name": "stdout",
     "output_type": "stream",
     "text": [
      "256\n"
     ]
    }
   ],
   "source": [
    "#Fourth root of a number\n",
    "a= 4\n",
    "print(a**4)"
   ]
  },
  {
   "cell_type": "code",
   "execution_count": 4,
   "metadata": {},
   "outputs": [
    {
     "name": "stdout",
     "output_type": "stream",
     "text": [
      "a after swap: 21\n",
      "b after swap: 12\n"
     ]
    }
   ],
   "source": [
    "#Swap two numbers in Python with the help of a temporary variable\n",
    "a= 12\n",
    "b= 21\n",
    "\n",
    "temp= a\n",
    "a=b\n",
    "b= temp\n",
    "\n",
    "print(\"a after swap:\", a)\n",
    "print(\"b after swap:\", b)"
   ]
  },
  {
   "cell_type": "code",
   "execution_count": 6,
   "metadata": {},
   "outputs": [
    {
     "name": "stdout",
     "output_type": "stream",
     "text": [
      "a after swap: 21\n",
      "b after swap: 12\n"
     ]
    }
   ],
   "source": [
    "#Swap two numbers in Python without the help of a temporary variable\n",
    "a= 12\n",
    "b= 21\n",
    "\n",
    "a, b=b, a\n",
    "\n",
    "print(\"a after swap:\", a)\n",
    "print(\"b after swap:\", b)"
   ]
  },
  {
   "cell_type": "code",
   "execution_count": 7,
   "metadata": {},
   "outputs": [
    {
     "name": "stdout",
     "output_type": "stream",
     "text": [
      "Temp in Kelvin: 311.27777777777777\n"
     ]
    }
   ],
   "source": [
    "#Program to convert Fahrenheit to kelvin\n",
    "\n",
    "a= 100\n",
    "\n",
    "print(\"Temp in Kelvin:\", 273.5 + ((a - 32.0) * (5.0/9.0)) )"
   ]
  },
  {
   "cell_type": "code",
   "execution_count": 12,
   "metadata": {},
   "outputs": [
    {
     "name": "stdout",
     "output_type": "stream",
     "text": [
      "Temp in Celsius: 37.77777777777778\n"
     ]
    }
   ],
   "source": [
    "#Program to convert Fahrenheit to Celsius\n",
    "\n",
    "a= 100\n",
    "\n",
    "print(\"Temp in Celsius:\", ((a - 32) / 1.8))"
   ]
  },
  {
   "cell_type": "code",
   "execution_count": 13,
   "metadata": {},
   "outputs": [
    {
     "name": "stdout",
     "output_type": "stream",
     "text": [
      "6 is of type <class 'int'>\n",
      "6.2 is of type <class 'float'>\n",
      "(6+2j) is complex number? True\n"
     ]
    }
   ],
   "source": [
    "#Program to demonstrate all the available data types in Python. Hint: Use type() function.\n",
    "\n",
    "a = 6\n",
    "print(a, \"is of type\", type(a))\n",
    "\n",
    "a = 6.2\n",
    "print(a, \"is of type\", type(a))\n",
    "\n",
    "a = 6+2j\n",
    "print(a, \"is complex number?\", isinstance(6+2j,complex))"
   ]
  },
  {
   "cell_type": "code",
   "execution_count": null,
   "metadata": {},
   "outputs": [],
   "source": []
  }
 ],
 "metadata": {
  "kernelspec": {
   "display_name": "Python 3",
   "language": "python",
   "name": "python3"
  },
  "language_info": {
   "codemirror_mode": {
    "name": "ipython",
    "version": 3
   },
   "file_extension": ".py",
   "mimetype": "text/x-python",
   "name": "python",
   "nbconvert_exporter": "python",
   "pygments_lexer": "ipython3",
   "version": "3.8.3"
  }
 },
 "nbformat": 4,
 "nbformat_minor": 4
}
