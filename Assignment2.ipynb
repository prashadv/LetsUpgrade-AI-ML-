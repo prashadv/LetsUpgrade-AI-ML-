{
 "cells": [
  {
   "cell_type": "code",
   "execution_count": 4,
   "metadata": {},
   "outputs": [
    {
     "ename": "SyntaxError",
     "evalue": "invalid syntax (<ipython-input-4-d527270d4eb0>, line 6)",
     "output_type": "error",
     "traceback": [
      "\u001b[1;36m  File \u001b[1;32m\"<ipython-input-4-d527270d4eb0>\"\u001b[1;36m, line \u001b[1;32m6\u001b[0m\n\u001b[1;33m    print(\"Floor Division of two complex numbers : \",(5+3j)//(3-8j))\u001b[0m\n\u001b[1;37m    ^\u001b[0m\n\u001b[1;31mSyntaxError\u001b[0m\u001b[1;31m:\u001b[0m invalid syntax\n"
     ]
    }
   ],
   "source": [
    "#addition, subtraction, multiplication, division, floor division, and modulo operations be performed on complex numbers\n",
    "print(\"Addition of two complex numbers : \",(5+3j)+(3-8j))\n",
    "print(\"Subtraction of two complex numbers : \",(5+3j)-(3-8j))\n",
    "print(\"Multiplication of two complex numbers : \",(5+3j)*(3-8j))\n",
    "print(\"Division of two complex numbers : \",(5+3j)/(3-8j))\n",
    "print(\"Modulo of two complex numbers : \",(5+3j)%(3-8j)\n",
    "print(\"Floor Division of two complex numbers : \",(5+3j)//(3-8j))"
   ]
  },
  {
   "cell_type": "markdown",
   "metadata": {},
   "source": [
    "### Range() Functions\n",
    "\n",
    "The range() function is a built-in-function used in python, it is used to generate a sequence of numbers. If the user wants to generate a sequence of numbers given the starting and the ending values then they can give these values as parameters of the range() function. The range() function will then generate a sequence of numbers according to the requirement."
   ]
  },
  {
   "cell_type": "code",
   "execution_count": 6,
   "metadata": {},
   "outputs": [
    {
     "name": "stdout",
     "output_type": "stream",
     "text": [
      "1\n",
      "2\n",
      "3\n",
      "4\n",
      "5\n",
      "6\n",
      "7\n",
      "8\n",
      "9\n",
      "10\n",
      "11\n",
      "12\n",
      "13\n",
      "14\n"
     ]
    }
   ],
   "source": [
    "x = range(1, 15)\n",
    "for i in x:\n",
    "    print(i)"
   ]
  },
  {
   "cell_type": "code",
   "execution_count": 54,
   "metadata": {},
   "outputs": [
    {
     "name": "stdout",
     "output_type": "stream",
     "text": [
      "The value is 5\n"
     ]
    }
   ],
   "source": [
    "a = 35\n",
    "b = 15\n",
    "\n",
    "c= (a-b) \n",
    "\n",
    "if c > 25:\n",
    "    print(\"The value is\", (a*b))\n",
    "    \n",
    "else :\n",
    "    print(\"The value is\", (a % b))\n",
    "    \n"
   ]
  },
  {
   "cell_type": "code",
   "execution_count": 65,
   "metadata": {},
   "outputs": [
    {
     "ename": "IndentationError",
     "evalue": "expected an indented block (<ipython-input-65-64ed12cb7492>, line 7)",
     "output_type": "error",
     "traceback": [
      "\u001b[1;36m  File \u001b[1;32m\"<ipython-input-65-64ed12cb7492>\"\u001b[1;36m, line \u001b[1;32m7\u001b[0m\n\u001b[1;33m    if( num%2==0 ):\u001b[0m\n\u001b[1;37m    ^\u001b[0m\n\u001b[1;31mIndentationError\u001b[0m\u001b[1;31m:\u001b[0m expected an indented block\n"
     ]
    }
   ],
   "source": [
    "list = [2,3,4,5,6,7,9,11,13,15]\n",
    "\n",
    "\n",
    "\n",
    "for num in list:\n",
    "\n",
    "if( num%2==0 ):\n",
    "    print (num**num-2)\n"
   ]
  },
  {
   "cell_type": "code",
   "execution_count": null,
   "metadata": {},
   "outputs": [],
   "source": []
  },
  {
   "cell_type": "code",
   "execution_count": null,
   "metadata": {},
   "outputs": [],
   "source": []
  }
 ],
 "metadata": {
  "kernelspec": {
   "display_name": "Python 3",
   "language": "python",
   "name": "python3"
  },
  "language_info": {
   "codemirror_mode": {
    "name": "ipython",
    "version": 3
   },
   "file_extension": ".py",
   "mimetype": "text/x-python",
   "name": "python",
   "nbconvert_exporter": "python",
   "pygments_lexer": "ipython3",
   "version": "3.8.3"
  }
 },
 "nbformat": 4,
 "nbformat_minor": 4
}
